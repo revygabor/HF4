{
  "nbformat": 4,
  "nbformat_minor": 0,
  "metadata": {
    "colab": {
      "name": "HF4_url_downloader.ipynb",
      "version": "0.3.2",
      "provenance": [],
      "collapsed_sections": [],
      "include_colab_link": true
    },
    "kernelspec": {
      "name": "python3",
      "display_name": "Python 3"
    }
  },
  "cells": [
    {
      "cell_type": "markdown",
      "metadata": {
        "id": "view-in-github",
        "colab_type": "text"
      },
      "source": [
        "<a href=\"https://colab.research.google.com/github/revygabor/HF4/blob/master/HF4_url_downloader.ipynb\" target=\"_parent\"><img src=\"https://colab.research.google.com/assets/colab-badge.svg\" alt=\"Open In Colab\"/></a>"
      ]
    },
    {
      "metadata": {
        "id": "sCRmqdZ38JMA",
        "colab_type": "text"
      },
      "cell_type": "markdown",
      "source": [
        "# URL downloader script"
      ]
    },
    {
      "metadata": {
        "id": "Ot2pshoC7yG2",
        "colab_type": "text"
      },
      "cell_type": "markdown",
      "source": [
        "Image url downloader for the 4th homework. I recommend running it on Google Colab."
      ]
    },
    {
      "metadata": {
        "id": "Ozf-a9MmIucA",
        "colab_type": "code",
        "colab": {}
      },
      "cell_type": "code",
      "source": [
        "import pandas as pd\n",
        "import numpy as np\n",
        "from urllib.request import urlopen"
      ],
      "execution_count": 0,
      "outputs": []
    },
    {
      "metadata": {
        "id": "5BIT-ZqVJtPo",
        "colab_type": "code",
        "colab": {}
      },
      "cell_type": "code",
      "source": [
        "labels = pd.read_csv('https://storage.googleapis.com/openimages/2018_04/train/train-annotations-human-imagelabels.csv') # downloading labels\n",
        "ids = pd.read_csv('https://storage.googleapis.com/openimages/2018_04/train/train-images-with-labels-with-rotation.csv') # downloading image URLs for the image IDs\n",
        "classes = pd.read_csv('https://storage.googleapis.com/openimages/2018_04/class-descriptions-boxable.csv', header=None) # downloading class IDs for class names"
      ],
      "execution_count": 0,
      "outputs": []
    },
    {
      "metadata": {
        "id": "ShQPqAbZKJw7",
        "colab_type": "code",
        "colab": {}
      },
      "cell_type": "code",
      "source": [
        "class1_id = classes.loc[classes.loc[:, 1] == 'Cat'][0].get_values()[0] # label ID for 'Dog'\n",
        "class2_id = classes.loc[classes.loc[:, 1] ==  'Horse'][0].get_values()[0] # label ID for  'Horse'"
      ],
      "execution_count": 0,
      "outputs": []
    },
    {
      "metadata": {
        "id": "TTpJzDacjE12",
        "colab_type": "code",
        "colab": {}
      },
      "cell_type": "code",
      "source": [
        "def get_image_urls(ids, labels, class_id):\n",
        "  # image IDs for pictures with objects from the given class on them\n",
        "  image_ids = labels.loc[(labels.loc[:, 'LabelName'] == class_id) & (labels.loc[:, 'Confidence'] == 1), 'ImageID'].get_values()\n",
        "  # urls with ids from image_ids\n",
        "  urls = ids.loc[ids.loc[:, 'ImageID'].isin(image_ids), 'OriginalURL'].get_values()\n",
        "  \n",
        "  return urls"
      ],
      "execution_count": 0,
      "outputs": []
    },
    {
      "metadata": {
        "id": "A8kslyy_EiRr",
        "colab_type": "code",
        "colab": {}
      },
      "cell_type": "code",
      "source": [
        "class1_image_urls = get_image_urls(ids, labels, class1_id)\n",
        "class2_image_urls =  get_image_urls(ids, labels, class2_id)\n",
        "\n",
        "del labels, ids, classes"
      ],
      "execution_count": 0,
      "outputs": []
    },
    {
      "metadata": {
        "id": "-rLJ653lTB6I",
        "colab_type": "code",
        "colab": {
          "base_uri": "https://localhost:8080/",
          "height": 51
        },
        "outputId": "6662cd89-6537-4df4-a8b3-e28762f6c310"
      },
      "cell_type": "code",
      "source": [
        "print(\"Cat images: {} pcs\".format(len(set(class1_image_urls))))\n",
        "print(\"Horse images: {} pcs\".format(len(set(class2_image_urls))))"
      ],
      "execution_count": 6,
      "outputs": [
        {
          "output_type": "stream",
          "text": [
            "Cat images: 58250 pcs\n",
            "Horse images: 37822 pcs\n"
          ],
          "name": "stdout"
        }
      ]
    },
    {
      "metadata": {
        "id": "8N-Z4lZ_HzAN",
        "colab_type": "code",
        "colab": {}
      },
      "cell_type": "code",
      "source": [
        "np.save('cat_urls', class1_image_urls[:1000])\n",
        "np.save('horse_urls', class2_image_urls[:1000])\n",
        "\n",
        "from google.colab import files\n",
        "\n",
        "files.download('cat_urls.npy')\n",
        "files.download('horse_urls.npy')"
      ],
      "execution_count": 0,
      "outputs": []
    }
  ]
}
